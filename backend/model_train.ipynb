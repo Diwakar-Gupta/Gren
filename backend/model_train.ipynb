{
  "nbformat": 4,
  "nbformat_minor": 0,
  "metadata": {
    "colab": {
      "name": "GREN Model.ipynb",
      "provenance": [],
      "collapsed_sections": []
    },
    "kernelspec": {
      "name": "python3",
      "display_name": "Python 3"
    },
    "language_info": {
      "name": "python"
    }
  },
  "cells": [
    {
      "cell_type": "markdown",
      "source": [
        "# Training Classifier"
      ],
      "metadata": {
        "id": "HhicNeS-EJQi"
      }
    },
    {
      "cell_type": "code",
      "source": [
        "! rm -rf /content/Gren"
      ],
      "metadata": {
        "id": "w4y9iX0GIL6b"
      },
      "execution_count": 37,
      "outputs": []
    },
    {
      "cell_type": "code",
      "source": [
        "! git clone https://github.com/Diwakar-Gupta/Gren.git"
      ],
      "metadata": {
        "colab": {
          "base_uri": "https://localhost:8080/"
        },
        "id": "c5FpUQcqEAeY",
        "outputId": "b21c2251-f3cc-4242-d3e0-86bc88ad0ea7"
      },
      "execution_count": 38,
      "outputs": [
        {
          "output_type": "stream",
          "name": "stdout",
          "text": [
            "Cloning into 'Gren'...\n",
            "remote: Enumerating objects: 154, done.\u001b[K\n",
            "remote: Counting objects: 100% (154/154), done.\u001b[K\n",
            "remote: Compressing objects: 100% (136/136), done.\u001b[K\n",
            "remote: Total 154 (delta 20), reused 150 (delta 16), pack-reused 0\u001b[K\n",
            "Receiving objects: 100% (154/154), 1.26 MiB | 16.93 MiB/s, done.\n",
            "Resolving deltas: 100% (20/20), done.\n"
          ]
        }
      ]
    },
    {
      "cell_type": "code",
      "source": [
        "import tensorflow as tf"
      ],
      "metadata": {
        "id": "FDDUqwn_NmnY"
      },
      "execution_count": 39,
      "outputs": []
    },
    {
      "cell_type": "code",
      "source": [
        "DATASET_PATH = '/content/Gren/DataSet'\n",
        "SEED = 90\n",
        "VALIDATION_SPLIT = 0.2\n",
        "IMAGE_SIZE=(100, 100)"
      ],
      "metadata": {
        "id": "AP3_y7AEN8aD"
      },
      "execution_count": 40,
      "outputs": []
    },
    {
      "cell_type": "code",
      "source": [
        "train_data = tf.keras.utils.image_dataset_from_directory(\n",
        "    DATASET_PATH,\n",
        "    labels='inferred',\n",
        "    label_mode='int',\n",
        "    color_mode='rgb',\n",
        "    batch_size=32,\n",
        "    image_size=IMAGE_SIZE,\n",
        "    shuffle=True,\n",
        "    seed=SEED,\n",
        "    subset='training',\n",
        "    validation_split=VALIDATION_SPLIT,\n",
        "    crop_to_aspect_ratio=False,\n",
        ")"
      ],
      "metadata": {
        "colab": {
          "base_uri": "https://localhost:8080/"
        },
        "id": "RhUrcie1NyKT",
        "outputId": "f2eb37aa-e263-469d-c10b-85afdd582e0a"
      },
      "execution_count": 63,
      "outputs": [
        {
          "output_type": "stream",
          "name": "stdout",
          "text": [
            "Found 82 files belonging to 7 classes.\n",
            "Using 66 files for training.\n"
          ]
        }
      ]
    },
    {
      "cell_type": "code",
      "source": [
        "validation_data = tf.keras.utils.image_dataset_from_directory(\n",
        "    DATASET_PATH,\n",
        "    labels='inferred',\n",
        "    label_mode='int',\n",
        "    color_mode='rgb',\n",
        "    batch_size=32,\n",
        "    image_size=IMAGE_SIZE,\n",
        "    shuffle=True,\n",
        "    seed=SEED,\n",
        "    subset='validation',\n",
        "    validation_split=VALIDATION_SPLIT,\n",
        "    crop_to_aspect_ratio=False,\n",
        ")"
      ],
      "metadata": {
        "colab": {
          "base_uri": "https://localhost:8080/"
        },
        "id": "-KtdqbWZNyHa",
        "outputId": "eabb4a83-e580-4509-886c-93d53e2a699f"
      },
      "execution_count": 64,
      "outputs": [
        {
          "output_type": "stream",
          "name": "stdout",
          "text": [
            "Found 82 files belonging to 7 classes.\n",
            "Using 16 files for validation.\n"
          ]
        }
      ]
    },
    {
      "cell_type": "code",
      "source": [
        "print(train_data.class_names)\n",
        "\n",
        "TOTAL_CLASSES = len(train_data.class_names)\n",
        "\n",
        "def get_class_name(i):\n",
        "    return train_data.class_names[i]"
      ],
      "metadata": {
        "id": "b7wRk3m3O0xZ",
        "colab": {
          "base_uri": "https://localhost:8080/"
        },
        "outputId": "01c58443-2250-4a7f-e1c1-b5e982464fe3"
      },
      "execution_count": 65,
      "outputs": [
        {
          "output_type": "stream",
          "name": "stdout",
          "text": [
            "['Beet_Sugar', 'Cane_Sugar', 'Olive_Oil', 'Palm_Oil', 'Rapeseed_Oil', 'Soyabeen_Oil', 'Sunflower_Oil']\n"
          ]
        }
      ]
    },
    {
      "cell_type": "code",
      "source": [
        "def preprocess(image, label):\n",
        "    image = tf.image.resize(image, IMAGE_SIZE)\n",
        "    # image = tf.image.random_crop(image, size=[*IMAGE_SIZE, 3])\n",
        "    # image = tf.image.random_flip_left_right(image)\n",
        "    # image = tf.keras.preprocessing.image.random_rotation(image.numpy(), 45,)\n",
        "    # image = tf.image.random_brightness(image, 0.2)\n",
        "    # image = tf.image.random_flip_up_down(image)\n",
        "    image = tf.keras.applications.xception.preprocess_input(image)\n",
        "    return image, label\n",
        "\n",
        "train_data = train_data.map(preprocess)\n",
        "validation_data = validation_data.map(preprocess)"
      ],
      "metadata": {
        "id": "0VInDAifCfHu"
      },
      "execution_count": null,
      "outputs": []
    },
    {
      "cell_type": "code",
      "source": [
        "base_model = tf.keras.applications.xception.Xception(\n",
        "    include_top=False,\n",
        "    weights='imagenet',\n",
        "    input_tensor=None,\n",
        "    input_shape=None,\n",
        "    pooling=None,\n",
        ")\n",
        "\n",
        "# base_model.summary()"
      ],
      "metadata": {
        "id": "ToVf5--QO0sY"
      },
      "execution_count": 57,
      "outputs": []
    },
    {
      "cell_type": "code",
      "source": [
        "x = tf.keras.layers.GlobalAveragePooling2D()(base_model.output)\n",
        "output = tf.keras.layers.Dense(TOTAL_CLASSES, activation='softmax')(x)\n",
        "\n",
        "model = tf.keras.Model(inputs=base_model.inputs, outputs=output)\n",
        "\n",
        "# model.summary()"
      ],
      "metadata": {
        "id": "5X5EKpVoEMn9"
      },
      "execution_count": 58,
      "outputs": []
    },
    {
      "cell_type": "code",
      "source": [
        "model.compile(\n",
        "    optimizer='Nadam',\n",
        "    loss='sparse_categorical_crossentropy',\n",
        "    metrics=['accuracy'],\n",
        ")"
      ],
      "metadata": {
        "id": "l6Xc08c8EMYP"
      },
      "execution_count": 59,
      "outputs": []
    },
    {
      "cell_type": "code",
      "source": [
        "base_model.trainable = False\n",
        "\n",
        "model.fit(train_data, validation_data=validation_data, epochs=6,)"
      ],
      "metadata": {
        "colab": {
          "base_uri": "https://localhost:8080/"
        },
        "id": "Xn_sEk0oQL1W",
        "outputId": "3628b986-9a6f-4990-f352-ac2e506156b6"
      },
      "execution_count": 60,
      "outputs": [
        {
          "output_type": "stream",
          "name": "stdout",
          "text": [
            "Epoch 1/6\n",
            "3/3 [==============================] - 36s 7s/step - loss: 1.8102 - accuracy: 0.3049 - val_loss: 1.5216 - val_accuracy: 0.5854\n",
            "Epoch 2/6\n",
            "3/3 [==============================] - 21s 6s/step - loss: 1.3277 - accuracy: 0.7927 - val_loss: 1.6899 - val_accuracy: 0.5366\n",
            "Epoch 3/6\n",
            "3/3 [==============================] - 20s 6s/step - loss: 0.7801 - accuracy: 0.8415 - val_loss: 1.0981 - val_accuracy: 0.6341\n",
            "Epoch 4/6\n",
            "3/3 [==============================] - 19s 6s/step - loss: 0.3837 - accuracy: 0.9146 - val_loss: 0.7511 - val_accuracy: 0.7317\n",
            "Epoch 5/6\n",
            "3/3 [==============================] - 23s 8s/step - loss: 0.2879 - accuracy: 0.8780 - val_loss: 0.5113 - val_accuracy: 0.8171\n",
            "Epoch 6/6\n",
            "3/3 [==============================] - 19s 6s/step - loss: 0.1952 - accuracy: 0.9268 - val_loss: 0.2905 - val_accuracy: 0.8780\n"
          ]
        },
        {
          "output_type": "execute_result",
          "data": {
            "text/plain": [
              "<keras.callbacks.History at 0x7f855743c1d0>"
            ]
          },
          "metadata": {},
          "execution_count": 60
        }
      ]
    },
    {
      "cell_type": "code",
      "source": [
        "base_model.trainable = True\n",
        "\n",
        "nadam = tf.keras.optimizers.Nadam(learning_rate=0.0001,)\n",
        "\n",
        "model.compile(\n",
        "    optimizer=nadam,\n",
        "    loss='sparse_categorical_crossentropy',\n",
        "    metrics=['accuracy'],\n",
        ")\n",
        "\n",
        "model.fit(train_data, validation_data=validation_data, epochs=2,)"
      ],
      "metadata": {
        "colab": {
          "base_uri": "https://localhost:8080/"
        },
        "id": "OLm2xSfURP3v",
        "outputId": "99b93151-7944-4686-ca94-88c5565bfd43"
      },
      "execution_count": 61,
      "outputs": [
        {
          "output_type": "stream",
          "name": "stdout",
          "text": [
            "Epoch 1/2\n",
            "3/3 [==============================] - 35s 7s/step - loss: 0.0350 - accuracy: 1.0000 - val_loss: 0.2441 - val_accuracy: 0.9268\n",
            "Epoch 2/2\n",
            "3/3 [==============================] - 26s 9s/step - loss: 0.0415 - accuracy: 1.0000 - val_loss: 0.1378 - val_accuracy: 0.9390\n"
          ]
        },
        {
          "output_type": "execute_result",
          "data": {
            "text/plain": [
              "<keras.callbacks.History at 0x7f8555692650>"
            ]
          },
          "metadata": {},
          "execution_count": 61
        }
      ]
    },
    {
      "cell_type": "code",
      "source": [
        "model.save('model')"
      ],
      "metadata": {
        "colab": {
          "base_uri": "https://localhost:8080/"
        },
        "id": "4SxRaxoLRjoN",
        "outputId": "ed240695-0e75-4e63-acc0-46607f193ea4"
      },
      "execution_count": 50,
      "outputs": [
        {
          "output_type": "stream",
          "name": "stdout",
          "text": [
            "INFO:tensorflow:Assets written to: model/assets\n"
          ]
        }
      ]
    },
    {
      "cell_type": "code",
      "source": [
        "! zip -r model.zip model"
      ],
      "metadata": {
        "colab": {
          "base_uri": "https://localhost:8080/"
        },
        "id": "OiUzFGU7TE5V",
        "outputId": "6fcd4a0e-2503-4197-95eb-3dbdd7c33c25"
      },
      "execution_count": 67,
      "outputs": [
        {
          "output_type": "stream",
          "name": "stdout",
          "text": [
            "  adding: model/ (stored 0%)\n",
            "  adding: model/assets/ (stored 0%)\n",
            "  adding: model/keras_metadata.pb (deflated 95%)\n",
            "  adding: model/variables/ (stored 0%)\n",
            "  adding: model/variables/variables.index (deflated 81%)\n",
            "  adding: model/variables/variables.data-00000-of-00001 (deflated 7%)\n",
            "  adding: model/saved_model.pb (deflated 92%)\n"
          ]
        }
      ]
    },
    {
      "cell_type": "code",
      "source": [
        "from google.colab import files\n",
        "files.download('model.zip')"
      ],
      "metadata": {
        "colab": {
          "base_uri": "https://localhost:8080/",
          "height": 17
        },
        "id": "9qc_dZ4rTRQu",
        "outputId": "3c94087d-9ac4-4682-e377-499157ff36d8"
      },
      "execution_count": 68,
      "outputs": [
        {
          "output_type": "display_data",
          "data": {
            "text/plain": [
              "<IPython.core.display.Javascript object>"
            ],
            "application/javascript": [
              "\n",
              "    async function download(id, filename, size) {\n",
              "      if (!google.colab.kernel.accessAllowed) {\n",
              "        return;\n",
              "      }\n",
              "      const div = document.createElement('div');\n",
              "      const label = document.createElement('label');\n",
              "      label.textContent = `Downloading \"${filename}\": `;\n",
              "      div.appendChild(label);\n",
              "      const progress = document.createElement('progress');\n",
              "      progress.max = size;\n",
              "      div.appendChild(progress);\n",
              "      document.body.appendChild(div);\n",
              "\n",
              "      const buffers = [];\n",
              "      let downloaded = 0;\n",
              "\n",
              "      const channel = await google.colab.kernel.comms.open(id);\n",
              "      // Send a message to notify the kernel that we're ready.\n",
              "      channel.send({})\n",
              "\n",
              "      for await (const message of channel.messages) {\n",
              "        // Send a message to notify the kernel that we're ready.\n",
              "        channel.send({})\n",
              "        if (message.buffers) {\n",
              "          for (const buffer of message.buffers) {\n",
              "            buffers.push(buffer);\n",
              "            downloaded += buffer.byteLength;\n",
              "            progress.value = downloaded;\n",
              "          }\n",
              "        }\n",
              "      }\n",
              "      const blob = new Blob(buffers, {type: 'application/binary'});\n",
              "      const a = document.createElement('a');\n",
              "      a.href = window.URL.createObjectURL(blob);\n",
              "      a.download = filename;\n",
              "      div.appendChild(a);\n",
              "      a.click();\n",
              "      div.remove();\n",
              "    }\n",
              "  "
            ]
          },
          "metadata": {}
        },
        {
          "output_type": "display_data",
          "data": {
            "text/plain": [
              "<IPython.core.display.Javascript object>"
            ],
            "application/javascript": [
              "download(\"download_b60fb83d-5dab-410f-ab62-82d9c179ad9b\", \"model.zip\", 232524263)"
            ]
          },
          "metadata": {}
        }
      ]
    }
  ]
}